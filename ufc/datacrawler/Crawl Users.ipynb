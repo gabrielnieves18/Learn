{
 "cells": [
  {
   "cell_type": "code",
   "execution_count": 329,
   "metadata": {},
   "outputs": [],
   "source": [
    "%matplotlib inline\n",
    "from mpl_toolkits.mplot3d import Axes3D  # noqa: F401 unused import\n",
    "\n",
    "import os\n",
    "import string\n",
    "import requests\n",
    "import xml.etree.ElementTree as ET\n",
    "\n",
    "from lxml import html\n",
    "\n",
    "import matplotlib.pyplot as plt\n",
    "import numpy as np"
   ]
  },
  {
   "cell_type": "code",
   "execution_count": 318,
   "metadata": {},
   "outputs": [],
   "source": [
    "def reach_in_cm(str_reach):\n",
    "    if not str_reach or '-' in str_reach:\n",
    "        return None\n",
    "    reach_inches = float(str_reach.strip('\\\"'))\n",
    "    return reach_inches * 2.54"
   ]
  },
  {
   "cell_type": "code",
   "execution_count": 319,
   "metadata": {},
   "outputs": [],
   "source": [
    "def weight_in_kg(str_pounds):\n",
    "    if not str_pounds or '-' in str_pounds:\n",
    "        return None\n",
    "    pounds = float(str_pounds.split(' ')[0]) \n",
    "    return pounds * 0.45359237"
   ]
  },
  {
   "cell_type": "code",
   "execution_count": 320,
   "metadata": {},
   "outputs": [],
   "source": [
    "def height_in_cm(str_height):\n",
    "    if not str_height or '-' in str_height:\n",
    "        return None\n",
    "    feet, inches = str_height.split(' ')\n",
    "    feet = feet.strip('\\'')\n",
    "    inches = inches.strip('\\\"')\n",
    "    inches = int(inches)\n",
    "    inches += (int(feet) * 12)\n",
    "    return inches * 2.54 # centimeter"
   ]
  },
  {
   "cell_type": "code",
   "execution_count": 325,
   "metadata": {},
   "outputs": [],
   "source": [
    "def get_user(elements):\n",
    "    fname = elements[0].xpath('a')[0].text.strip()\n",
    "    lname = elements[1].xpath('a')[0].text.strip()\n",
    "    nickname = elements[2].xpath('a')[0].text\n",
    "    height = height_in_cm(elements[3].text.strip())\n",
    "    weight = weight_in_kg(elements[4].text.strip())\n",
    "    reach = reach_in_cm(elements[5].text.strip())\n",
    "    stance = None if not elements[6].text.strip() else elements[6].text.strip()\n",
    "    win = elements[7].text.strip()\n",
    "    loss = elements[8].text.strip()\n",
    "    dq = elements[9].text.strip()\n",
    "    champ = len(elements[10].xpath('img')) >= 1\n",
    "    stats_link = elements[0].xpath('a')[0].attrib['href']\n",
    "    \n",
    "    return np.array([fname, lname, nickname, \n",
    "                     height, weight, reach, \n",
    "                     stance, win, loss, dq, \n",
    "                     champ, stats_link])"
   ]
  },
  {
   "cell_type": "code",
   "execution_count": 332,
   "metadata": {},
   "outputs": [],
   "source": [
    "alphabet = list(string.ascii_lowercase)\n",
    "users = []\n",
    "\n",
    "table_head = None\n",
    "    \n",
    "\n",
    "for char in alphabet:\n",
    "    URL = \"http://www.ufcstats.com/statistics/fighters?char={}&page=all\"\n",
    "    page = requests.get(url=URL.format(char)) \n",
    "    tree = html.fromstring(page.content)\n",
    "    URL.format('a')\n",
    "    \n",
    "    # init table header\n",
    "    if table_head is None:\n",
    "        table_head = tree.xpath('//table/thead/tr/th/text()')\n",
    "        table_head = np.array(table_head)\n",
    "        for i, value in enumerate(table_head):\n",
    "            table_head[i] = value.strip()\n",
    "    \n",
    "    table_data = tree.xpath('//table/tbody/tr')\n",
    "    table_rows = np.array(table_data[1:])  \n",
    "\n",
    "    for i, row_data in enumerate(table_rows):        \n",
    "        users.append(get_user(row_data))"
   ]
  },
  {
   "cell_type": "code",
   "execution_count": 333,
   "metadata": {},
   "outputs": [
    {
     "data": {
      "text/plain": [
       "(3393, 12)"
      ]
     },
     "execution_count": 333,
     "metadata": {},
     "output_type": "execute_result"
    }
   ],
   "source": [
    "np.array(users).shape"
   ]
  },
  {
   "cell_type": "code",
   "execution_count": null,
   "metadata": {},
   "outputs": [],
   "source": []
  },
  {
   "cell_type": "code",
   "execution_count": null,
   "metadata": {
    "scrolled": true
   },
   "outputs": [],
   "source": []
  },
  {
   "cell_type": "code",
   "execution_count": null,
   "metadata": {},
   "outputs": [],
   "source": []
  },
  {
   "cell_type": "code",
   "execution_count": null,
   "metadata": {},
   "outputs": [],
   "source": []
  }
 ],
 "metadata": {
  "kernelspec": {
   "display_name": "Python 3",
   "language": "python",
   "name": "python3"
  },
  "language_info": {
   "codemirror_mode": {
    "name": "ipython",
    "version": 3
   },
   "file_extension": ".py",
   "mimetype": "text/x-python",
   "name": "python",
   "nbconvert_exporter": "python",
   "pygments_lexer": "ipython3",
   "version": "3.7.3"
  }
 },
 "nbformat": 4,
 "nbformat_minor": 2
}
