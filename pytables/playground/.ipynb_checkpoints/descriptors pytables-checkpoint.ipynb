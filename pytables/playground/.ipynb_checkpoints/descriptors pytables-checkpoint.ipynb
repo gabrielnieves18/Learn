{
 "cells": [
  {
   "cell_type": "code",
   "execution_count": 1,
   "metadata": {},
   "outputs": [],
   "source": [
    "import os \n",
    "import random\n",
    "\n",
    "import numpy as np\n",
    "import tables as tb"
   ]
  },
  {
   "cell_type": "code",
   "execution_count": 2,
   "metadata": {},
   "outputs": [],
   "source": [
    "tmp_path = os.path.join('..', 'tmp')\n",
    "tmp_filename = os.path.join(tmp_path, 'tmp_file.h5')\n",
    "\n",
    "label_list = ['android', 'bmw', 'visa', 'shell', 'toyota', 'unk']\n",
    "label_enum = tb.Enum(label_list)"
   ]
  },
  {
   "cell_type": "code",
   "execution_count": 3,
   "metadata": {},
   "outputs": [],
   "source": [
    "# class Labels(tb.IsDescription):    \n",
    "#     label = tb.EnumCol(label_enum, dflt='unk', base='uint32')\n",
    "\n",
    "class Labels(tb.IsDescription):    \n",
    "    label = tb.Int32Col()\n",
    "#     label_name = tb.StringCol(32)"
   ]
  },
  {
   "cell_type": "code",
   "execution_count": 4,
   "metadata": {},
   "outputs": [],
   "source": [
    "filters = tb.Filters(complevel=5, complib='zlib')\n",
    "\n",
    "tmp_file = tb.open_file(tmp_filename, mode='w', description=None, \n",
    "                        title='descriptors', filters=filters)\n",
    "file1 = tb.open_file(tmp_filename, mode='r+')\n",
    "file2 = tb.open_file(tmp_filename, mode='r+')\n",
    "file3 = tb.open_file(tmp_filename, mode='r+')"
   ]
  },
  {
   "cell_type": "code",
   "execution_count": 5,
   "metadata": {},
   "outputs": [],
   "source": [
    "descriptors = file1.create_vlarray(\n",
    "    where=file1.root, name='descriptors',\n",
    "    atom=tb.Float32Atom(128), title=\"Image descriptors\")\n",
    "\n",
    "keypoints = file2.create_vlarray(\n",
    "    where=file2.root, name='keypoints',\n",
    "    atom=tb.Float32Atom(8), title=\"descriptors keypoints\")\n",
    "\n",
    "labels = file3.create_table(\n",
    "    where=file3.root, name='labels',\n",
    "    description=Labels, title=\"Labels Data\")"
   ]
  },
  {
   "cell_type": "code",
   "execution_count": 7,
   "metadata": {},
   "outputs": [],
   "source": [
    "_labels = np.random.randint(low=0, high=len(label_list)-1, size=200)\n",
    "_labels_classes = [label_list[i] for i in _labels]\n",
    "\n",
    "labels.append([_labels])"
   ]
  },
  {
   "cell_type": "code",
   "execution_count": null,
   "metadata": {},
   "outputs": [],
   "source": [
    "# _descriptors = np.ones(shape=(200, 500, 128))\n",
    "# _keypoints = np.ones(shape=(200, _descriptors.shape[1], 8))\n",
    "# _labels = np.random.randint(low=0, high=len(label_list)-1, size=200)\n",
    "# _labels_classes = [label_list[i] for i in _labels]\n",
    "\n",
    "# for des in _descriptors:\n",
    "#     descriptors.append(des)\n",
    "\n",
    "# for kps in _keypoints:\n",
    "#     keypoints.append(kps)\n",
    "    \n",
    "# labels.append([_labels, _labels_classes])\n",
    "\n",
    "for i in range(1000):\n",
    "    factor = np.random.random()\n",
    "    label = label_enum._names[random.choice(label_list)]\n",
    "    descriptor = np.ones(shape=(int(1000*factor), 128))\n",
    "    keypoint = np.ones(shape=(descriptor.shape[0], 8))\n",
    "    \n",
    "    labels.append([[label]])\n",
    "    descriptors.append(descriptor)\n",
    "    keypoints.append(keypoint)"
   ]
  },
  {
   "cell_type": "code",
   "execution_count": null,
   "metadata": {},
   "outputs": [],
   "source": [
    "for i in descriptors.read(0, 5):\n",
    "    print(i.shape)"
   ]
  },
  {
   "cell_type": "code",
   "execution_count": null,
   "metadata": {},
   "outputs": [],
   "source": [
    "for i in keypoints.read(0, 5):\n",
    "    print(i.shape)"
   ]
  },
  {
   "cell_type": "code",
   "execution_count": 13,
   "metadata": {},
   "outputs": [],
   "source": [
    "for i in labels.read(0, 5, field='label'):\n",
    "    print(i)"
   ]
  },
  {
   "cell_type": "code",
   "execution_count": null,
   "metadata": {},
   "outputs": [],
   "source": [
    "tmp_file.close()\n",
    "file1.close()\n",
    "file2.close()\n",
    "file3.close()"
   ]
  },
  {
   "cell_type": "code",
   "execution_count": null,
   "metadata": {},
   "outputs": [],
   "source": []
  }
 ],
 "metadata": {
  "kernelspec": {
   "display_name": "Python 3",
   "language": "python",
   "name": "python3"
  },
  "language_info": {
   "codemirror_mode": {
    "name": "ipython",
    "version": 3
   },
   "file_extension": ".py",
   "mimetype": "text/x-python",
   "name": "python",
   "nbconvert_exporter": "python",
   "pygments_lexer": "ipython3",
   "version": "3.6.8"
  }
 },
 "nbformat": 4,
 "nbformat_minor": 2
}
