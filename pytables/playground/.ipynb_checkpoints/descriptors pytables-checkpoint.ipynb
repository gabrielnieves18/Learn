{
 "cells": [
  {
   "cell_type": "code",
   "execution_count": 1,
   "metadata": {},
   "outputs": [],
   "source": [
    "import os \n",
    "\n",
    "import numpy as np\n",
    "import tables as tb"
   ]
  },
  {
   "cell_type": "code",
   "execution_count": 2,
   "metadata": {},
   "outputs": [],
   "source": [
    "tmp_path = os.path.join('..', 'tmp')\n",
    "tmp_filename = os.path.join(tmp_path, 'tmp_file.h5')"
   ]
  },
  {
   "cell_type": "code",
   "execution_count": 3,
   "metadata": {},
   "outputs": [],
   "source": [
    "file = tb.open_file(tmp_filename, mode='w', description=None, title='descriptors')"
   ]
  },
  {
   "cell_type": "code",
   "execution_count": 4,
   "metadata": {},
   "outputs": [],
   "source": [
    "# metadata_group = file.create_group(where=file.root, name='metadata', title='Descriptors Metadata')\n",
    "# desc_group = file.create_group(where=file.root, name='descriptors', title='Descriptor arrays')\n",
    "# kpts_group = file.create_group(where=file.root, name='keypoints', title='Keypoints arrays')"
   ]
  },
  {
   "cell_type": "code",
   "execution_count": 5,
   "metadata": {},
   "outputs": [],
   "source": [
    "# descriptors = file.create_table(where=file.root, name='a1', description=None)"
   ]
  },
  {
   "cell_type": "code",
   "execution_count": 6,
   "metadata": {},
   "outputs": [],
   "source": [
    "a1 = file.create_vlarray(where=file.root, name='a1', atom=tb.Float32Atom(128), title=\"Description\")"
   ]
  },
  {
   "cell_type": "code",
   "execution_count": 21,
   "metadata": {},
   "outputs": [],
   "source": [
    "for _ in range(10000):\n",
    "    factor = np.random.random()\n",
    "    a1.append(np.ones(shape=(int(1000*factor), 128)))"
   ]
  },
  {
   "cell_type": "code",
   "execution_count": 25,
   "metadata": {},
   "outputs": [],
   "source": []
  },
  {
   "cell_type": "code",
   "execution_count": null,
   "metadata": {},
   "outputs": [],
   "source": [
    "# for child in file.get_node(file.root):\n",
    "#     print(child)\n",
    "    \n",
    "# generator = iter(file.get_node('/'))\n",
    "\n",
    "file.root._v_attrs.index = []\n",
    "for i in range(27000):\n",
    "    file.root._v_attrs.index.append('id_%s'%i)\n",
    "    \n",
    "file.root._v_attrs.index[-10:-1]"
   ]
  },
  {
   "cell_type": "markdown",
   "metadata": {},
   "source": [
    "1) Descriptors (Array)\n",
    "2) Keypoint (Array)\n",
    "3) Labels (Enum)"
   ]
  },
  {
   "cell_type": "code",
   "execution_count": null,
   "metadata": {},
   "outputs": [],
   "source": [
    "generator.__next__()"
   ]
  },
  {
   "cell_type": "code",
   "execution_count": null,
   "metadata": {},
   "outputs": [],
   "source": []
  },
  {
   "cell_type": "code",
   "execution_count": null,
   "metadata": {},
   "outputs": [],
   "source": []
  }
 ],
 "metadata": {
  "kernelspec": {
   "display_name": "Python 3",
   "language": "python",
   "name": "python3"
  },
  "language_info": {
   "codemirror_mode": {
    "name": "ipython",
    "version": 3
   },
   "file_extension": ".py",
   "mimetype": "text/x-python",
   "name": "python",
   "nbconvert_exporter": "python",
   "pygments_lexer": "ipython3",
   "version": "3.6.8"
  }
 },
 "nbformat": 4,
 "nbformat_minor": 2
}
