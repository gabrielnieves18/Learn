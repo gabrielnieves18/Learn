{
 "cells": [
  {
   "cell_type": "code",
   "execution_count": 1,
   "metadata": {},
   "outputs": [],
   "source": [
    "import os \n",
    "import random\n",
    "\n",
    "import numpy as np\n",
    "import tables as tb"
   ]
  },
  {
   "cell_type": "code",
   "execution_count": 2,
   "metadata": {},
   "outputs": [],
   "source": [
    "tmp_path = os.path.join('..', 'tmp')\n",
    "tmp_filename = os.path.join(tmp_path, 'tmp_file.h5')\n",
    "\n",
    "label_list = ['android', 'bmw', 'visa', 'shell', 'toyota', 'unk']\n",
    "label_enum = tb.Enum(label_list)"
   ]
  },
  {
   "cell_type": "code",
   "execution_count": 3,
   "metadata": {},
   "outputs": [],
   "source": [
    "class Labels(tb.IsDescription):    \n",
    "    label = tb.EnumCol(label_enum, dflt='unk', base='uint32')"
   ]
  },
  {
   "cell_type": "code",
   "execution_count": 4,
   "metadata": {},
   "outputs": [],
   "source": [
    "file = tb.open_file(tmp_filename, mode='w', description=None, title='descriptors')"
   ]
  },
  {
   "cell_type": "code",
   "execution_count": 5,
   "metadata": {},
   "outputs": [],
   "source": [
    "descriptors = file.create_vlarray(\n",
    "    where=file.root, name='descriptors',\n",
    "    atom=tb.Float32Atom(128), title=\"Image descriptors\")\n",
    "\n",
    "keypoints = file.create_vlarray(\n",
    "    where=file.root, name='keypoints',\n",
    "    atom=tb.Float32Atom(8), title=\"descriptors keypoints\")\n",
    "\n",
    "labels = file.create_table(\n",
    "    where=file.root, name='labels',\n",
    "    description=Labels, title=\"Image labels\")"
   ]
  },
  {
   "cell_type": "code",
   "execution_count": 6,
   "metadata": {},
   "outputs": [],
   "source": [
    "for i in range(10000):\n",
    "    factor = np.random.random()\n",
    "    label = label_enum._names[random.choice(label_list)]\n",
    "    descriptor = np.ones(shape=(int(1000*factor), 128))\n",
    "    keypoint = np.ones(shape=(descriptor.shape[0], 8))\n",
    "    \n",
    "    labels.append([[label]])\n",
    "    descriptors.append(descriptor)\n",
    "    keypoints.append(keypoint)"
   ]
  },
  {
   "cell_type": "code",
   "execution_count": 8,
   "metadata": {},
   "outputs": [
    {
     "name": "stdout",
     "output_type": "stream",
     "text": [
      "(573, 128)\n",
      "(781, 128)\n",
      "(391, 128)\n",
      "(107, 128)\n",
      "(672, 128)\n"
     ]
    }
   ],
   "source": [
    "for i in descriptors.read(0, 5):\n",
    "    print(i.shape)"
   ]
  },
  {
   "cell_type": "code",
   "execution_count": 9,
   "metadata": {},
   "outputs": [
    {
     "name": "stdout",
     "output_type": "stream",
     "text": [
      "(573, 8)\n",
      "(781, 8)\n",
      "(391, 8)\n",
      "(107, 8)\n",
      "(672, 8)\n"
     ]
    }
   ],
   "source": [
    "for i in keypoints.read(0, 5):\n",
    "    print(i.shape)"
   ]
  },
  {
   "cell_type": "code",
   "execution_count": 14,
   "metadata": {},
   "outputs": [
    {
     "name": "stdout",
     "output_type": "stream",
     "text": [
      "2 --> visa\n",
      "2 --> visa\n",
      "3 --> shell\n",
      "5 --> unk\n",
      "3 --> shell\n"
     ]
    }
   ],
   "source": [
    "for i in labels.read(0, 5):\n",
    "    print(i[0], '-->', label_enum(i[0]))"
   ]
  },
  {
   "cell_type": "code",
   "execution_count": null,
   "metadata": {},
   "outputs": [],
   "source": []
  }
 ],
 "metadata": {
  "kernelspec": {
   "display_name": "Python 3",
   "language": "python",
   "name": "python3"
  },
  "language_info": {
   "codemirror_mode": {
    "name": "ipython",
    "version": 3
   },
   "file_extension": ".py",
   "mimetype": "text/x-python",
   "name": "python",
   "nbconvert_exporter": "python",
   "pygments_lexer": "ipython3",
   "version": "3.7.3"
  }
 },
 "nbformat": 4,
 "nbformat_minor": 2
}
