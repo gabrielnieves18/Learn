{
 "cells": [
  {
   "cell_type": "code",
   "execution_count": null,
   "metadata": {},
   "outputs": [],
   "source": [
    "import numpy as np\n",
    "\n",
    "from tables import *"
   ]
  },
  {
   "cell_type": "markdown",
   "metadata": {},
   "source": [
    "Now it’s time for a more real-life example (i.e. with errors in the code). We will create two groups that branch directly from the root node, Particles and Events. Then, we will put three tables in each group. In Particles we will put tables based on the Particle descriptor and in Events, the tables based the Event descriptor.\n",
    "\n",
    "Afterwards, we will provision the tables with a number of records. Finally, we will read the newly-created table `/Events/TEvent3` and select some values from it, using a comprehension list.\n",
    "\n",
    "Look at the next script (you can find it in `examples/tutorial2.py`). It appears to do all of the above, but it contains some small bugs. Note that this Particle class is not directly related to the one defined in last tutorial; this class is simpler (note, however, the multidimensional columns called pressure and temperature).\n",
    "\n",
    "We also introduce a new manner to describe a Table as a structured NumPy dtype (or even as a dictionary), as you can see in the Event description. See `File.create_table()` about the different kinds of descriptor objects that can be passed to this method:"
   ]
  },
  {
   "cell_type": "markdown",
   "metadata": {},
   "source": [
    "# Describe a particle record (Group)"
   ]
  },
  {
   "cell_type": "code",
   "execution_count": null,
   "metadata": {},
   "outputs": [],
   "source": [
    "# Describe a particle record\n",
    "class Particle(IsDescription):\n",
    "    name        = StringCol(itemsize=16)  # 16-character string\n",
    "    lati        = Int32Col()              # integer\n",
    "    longi       = Int32Col()              # integer\n",
    "    pressure    = Float32Col(shape=(2,3)) # array of floats (single-precision)\n",
    "    temperature = Float64Col(shape=(2,3)) # array of doubles (double-precision)"
   ]
  },
  {
   "cell_type": "code",
   "execution_count": null,
   "metadata": {},
   "outputs": [],
   "source": [
    "# Native NumPy dtype instances are also accepted\n",
    "Event = np.dtype([\n",
    "    (\"name\"     , \"S16\"),\n",
    "    (\"TDCcount\" , np.uint8),\n",
    "    (\"ADCcount\" , np.uint16),\n",
    "    (\"xcoord\"   , np.float32),\n",
    "    (\"ycoord\"   , np.float32)\n",
    "    ])\n",
    "\n",
    "\n",
    "# And dictionaries too (this defines the same structure as above)\n",
    "# Event = {\n",
    "#     \"name\"     : StringCol(itemsize=16),\n",
    "#     \"TDCcount\" : UInt8Col(),\n",
    "#     \"ADCcount\" : UInt16Col(),\n",
    "#     \"xcoord\"   : Float32Col(),\n",
    "#     \"ycoord\"   : Float32Col(),\n",
    "#     }"
   ]
  },
  {
   "cell_type": "code",
   "execution_count": null,
   "metadata": {},
   "outputs": [],
   "source": [
    "# Open a file in \"w\"rite mode\n",
    "fileh = open_file(\"tmp/tutorial2.h5\", mode = \"w\")\n",
    "\n",
    "# Get the HDF5 root group\n",
    "root = fileh.root\n",
    "\n",
    "# Create the groups:\n",
    "for groupname in (\"Particles\", \"Events\"):\n",
    "    group = fileh.create_group(root, groupname)"
   ]
  },
  {
   "cell_type": "markdown",
   "metadata": {},
   "source": [
    "# Create and fill the tables in Particles group"
   ]
  },
  {
   "cell_type": "code",
   "execution_count": null,
   "metadata": {},
   "outputs": [],
   "source": [
    "# Now, create and fill the tables in Particles group\n",
    "gparticles = root.Particles\n",
    "\n",
    "# Create 3 new tables\n",
    "for tablename in (\"TParticle1\", \"TParticle2\", \"TParticle3\"):\n",
    "    # Create a table\n",
    "    table = fileh.create_table(\"/Particles\", tablename, Particle, \"Particles: \"+tablename)\n",
    "    # table = fileh.create_table(gparticles, tablename, Particle, \"Particles: \"+tablename)\n",
    "\n",
    "\n",
    "    # Get the record object associated with the table:\n",
    "    particle = table.row\n",
    "\n",
    "\n",
    "    # Fill the table with 257 particles\n",
    "    for i in range(257):\n",
    "        # First, assign the values to the Particle record\n",
    "        particle['name'] = 'Particle: %6d' % (i)\n",
    "        particle['lati'] = i\n",
    "        particle['longi'] = 10 - i\n",
    "\n",
    "\n",
    "        ########### Detectable errors start here. Play with them!\n",
    "        # particle['pressure'] = (i*np.arange(2*3)).reshape((2,4))  # Incorrect\n",
    "        particle['pressure'] = (i*np.arange(2*3)).reshape((2,3)) # Correct\n",
    "        ########### End of errors\n",
    "\n",
    "\n",
    "        particle['temperature'] = (i**2)     # Broadcasting\n",
    "\n",
    "\n",
    "        # This injects the Record values\n",
    "        particle.append()\n",
    "\n",
    "\n",
    "    # Flush the table buffers\n",
    "    table.flush()"
   ]
  },
  {
   "cell_type": "markdown",
   "metadata": {},
   "source": [
    "# Now, go for the Events group"
   ]
  },
  {
   "cell_type": "code",
   "execution_count": null,
   "metadata": {},
   "outputs": [],
   "source": [
    "# Now, go for Events:\n",
    "for tablename in (\"TEvent1\", \"TEvent2\", \"TEvent3\"):\n",
    "    # Create a table in Events group\n",
    "    table = fileh.create_table(root.Events, tablename, Event, \"Events: \"+tablename)\n",
    "\n",
    "    # Get the record object associated with the table:\n",
    "    event = table.row\n",
    "\n",
    "    # Fill the table with 257 events\n",
    "    for i in range(257):\n",
    "        # First, assign the values to the Event record\n",
    "        event['name']  = 'Event: %6d' % (i)\n",
    "        event['TDCcount'] = i % (1<<8)   # Correct range\n",
    "\n",
    "        ########### Detectable errors start here. Play with them!\n",
    "        # event['xcoor'] = float(i**2)     # Wrong spelling\n",
    "        event['xcoord'] = float(i**2)   # Correct spelling\n",
    "        # event['ADCcount'] = \"sss\"        # Wrong type\n",
    "        event['ADCcount'] = i * 2       # Correct type\n",
    "        ########### End of errors\n",
    "\n",
    "        event['ycoord'] = float(i)**4\n",
    "\n",
    "        # This injects the Record values\n",
    "        event.append()\n",
    "\n",
    "    # Flush the buffers\n",
    "    table.flush()"
   ]
  },
  {
   "cell_type": "markdown",
   "metadata": {},
   "source": [
    "# Read the records from table \"/Events/TEvent3\" and select some"
   ]
  },
  {
   "cell_type": "code",
   "execution_count": null,
   "metadata": {},
   "outputs": [],
   "source": [
    "# Read the records from table \"/Events/TEvent3\" and select some\n",
    "table = root.Events.TEvent3\n",
    "e = [ p['TDCcount'] for p in table if p['ADCcount'] < 20 and 4 <= p['TDCcount'] < 15 ]\n",
    "p = table.read(len(table)-1, len(table))\n",
    "print(\"Last record ==>\", p)\n",
    "print(\"Selected values ==>\", e)\n",
    "print(\"Total selected records ==> \", len(e))"
   ]
  },
  {
   "cell_type": "code",
   "execution_count": null,
   "metadata": {},
   "outputs": [],
   "source": [
    "# Finally, close the file (this also will flush all the remaining buffers!)\n",
    "fileh.close()"
   ]
  },
  {
   "cell_type": "markdown",
   "metadata": {},
   "source": [
    "# Using links for more convenient access to nodes\n",
    "Links are special nodes that can be used to create additional paths to your existing nodes. PyTables supports three kinds of links: hard links, soft links (aka symbolic links) and external links.\n",
    "\n",
    "Hard links let the user create additional paths to access another node in the same file, and once created, they are indistinguishable from the referred node object, except that they have different paths in the object tree. For example, if the referred node is, say, a Table object, then the new hard link will become a Table object itself. From this point on, you will be able to access the same Table object from two different paths: the original one and the new hard link path. If you delete one path to the table, you will be able to reach it via the other path.\n",
    "\n",
    "Soft links are similar to hard links, but they keep their own personality. When you create a soft link to another node, you will get a new SoftLink object that refers to that node. However, in order to access the referred node, you need to dereference it.\n",
    "\n",
    "Finally, external links are like soft links, with the difference that these are meant to point to nodes in external files instead of nodes in the same file. They are represented by the ExternalLink class and, like soft links, you need to dereference them in order to get access to the pointed node."
   ]
  },
  {
   "cell_type": "markdown",
   "metadata": {},
   "source": [
    "# Interactive example\n",
    "Now we are going to learn how to deal with links. You can find the code used in this section in examples/links.py.\n",
    "\n",
    "First, let’s create a file with some group structure:"
   ]
  },
  {
   "cell_type": "code",
   "execution_count": 1,
   "metadata": {},
   "outputs": [],
   "source": [
    "import numpy as np\n",
    "\n",
    "from tables import *"
   ]
  },
  {
   "cell_type": "code",
   "execution_count": 2,
   "metadata": {},
   "outputs": [],
   "source": [
    "f1 = open_file('tmp/links1.h5', 'w')\n",
    "g1 = f1.create_group('/', 'g1')\n",
    "g2 = f1.create_group(g1, 'g2')"
   ]
  },
  {
   "cell_type": "code",
   "execution_count": 3,
   "metadata": {},
   "outputs": [],
   "source": [
    "# Now, we will put some datasets on the /g1 and /g1/g2 groups:\n",
    "a1 = f1.create_carray(g1, 'a1', Int64Atom(), shape=(10000,))\n",
    "t1 = f1.create_table(g2, 't1', {'f1': IntCol(), 'f2': FloatCol()}, )"
   ]
  },
  {
   "cell_type": "code",
   "execution_count": 4,
   "metadata": {},
   "outputs": [
    {
     "name": "stdout",
     "output_type": "stream",
     "text": [
      "/gl/ht (Table(0,)) '' is a hard link to: /g1/g2/t1 (Table(0,)) ''\n"
     ]
    }
   ],
   "source": [
    "# We can start the party now. We are going to create a new group, say /gl, \n",
    "# where we will put our links and will start creating one hard link too:\n",
    "gl = f1.create_group('/', 'gl')\n",
    "ht = f1.create_hard_link(gl, 'ht', '/g1/g2/t1')  # ht points to t1\n",
    "print(\"%s is a hard link to: %s\" % (ht, t1))"
   ]
  },
  {
   "cell_type": "markdown",
   "metadata": {},
   "source": [
    "You can see how we’ve created a hard link in `/gl/ht` which is pointing to the existing table in `/g1/g2/t1`. Have look at how the hard link is represented; it looks like a table, and actually, it is an real table. We have two different paths to access that table, the original `/g1/g2/t1` and the new one `/gl/ht`. If we remove the original path we still can reach the table by using the new path:"
   ]
  },
  {
   "cell_type": "code",
   "execution_count": 5,
   "metadata": {},
   "outputs": [
    {
     "name": "stdout",
     "output_type": "stream",
     "text": [
      "table continues to be accessible in: ``/gl/ht (Table(0,)) ''``\n"
     ]
    }
   ],
   "source": [
    "t1.remove()\n",
    "print(\"table continues to be accessible in: ``%s``\" % f1.get_node('/gl/ht'))"
   ]
  },
  {
   "cell_type": "code",
   "execution_count": 6,
   "metadata": {},
   "outputs": [
    {
     "name": "stdout",
     "output_type": "stream",
     "text": [
      "/gl/la1 (SoftLink) -> /g1/a1 is a soft link to: /g1/a1\n",
      "/gl/lt (SoftLink) -> /g1/g2/t1 (dangling) is a soft link to: /g1/g2/t1\n"
     ]
    }
   ],
   "source": [
    "# So far so good. Now, let’s create a couple of soft links:\n",
    "la1 = f1.create_soft_link(gl, 'la1', '/g1/a1')  # la1 points to a1\n",
    "print(\"%s is a soft link to: %s\" % (la1, la1.target))\n",
    "\n",
    "lt = f1.create_soft_link(gl, 'lt', '/g1/g2/t1')  # lt points to t1\n",
    "print(\"%s is a soft link to: %s\" % (lt, lt.target))"
   ]
  },
  {
   "cell_type": "markdown",
   "metadata": {},
   "source": [
    "Okay, we see how the first link `/gl/la1` points to the array `/g1/a1`. Notice how the link prints as a SoftLink, and how the referred node is stored in the target instance attribute. The second link (`/gt/lt`) pointing to `/g1/g2/t1` also has been created successfully, but by better inspecting the string representation of it, we see that is labeled as ‘(dangling)’. Why is this? Well, you should remember that we recently removed the `/g1/g2/t1` path to access table t1. When printing it, the object knows that it points to nowhere and reports this. This is a nice way to quickly know whether a soft link points to an exiting node or not.\n",
    "\n",
    "So, let’s re-create the removed path to t1 table:"
   ]
  },
  {
   "cell_type": "code",
   "execution_count": 7,
   "metadata": {},
   "outputs": [
    {
     "name": "stdout",
     "output_type": "stream",
     "text": [
      "/gl/lt (SoftLink) -> /g1/g2/t1 is not dangling anymore\n"
     ]
    }
   ],
   "source": [
    "t1 = f1.create_hard_link(g2, 't1', '/gl/ht')\n",
    "print(\"%s is not dangling anymore\" % (lt,))"
   ]
  },
  {
   "cell_type": "markdown",
   "metadata": {},
   "source": [
    "and the soft link is pointing to an existing node now.\n",
    "\n",
    "Of course, for soft links to serve any actual purpose we need a way to get the pointed node. It happens that soft links are callable, and that’s the way to get the referred nodes back:"
   ]
  },
  {
   "cell_type": "code",
   "execution_count": 8,
   "metadata": {},
   "outputs": [
    {
     "name": "stdout",
     "output_type": "stream",
     "text": [
      "dereferred lt node: ``/g1/g2/t1 (Table(0,)) ''``\n",
      "dereferred la1 node: ``/g1/a1 (CArray(10000,)) ''``\n"
     ]
    }
   ],
   "source": [
    "plt = lt()\n",
    "print(\"dereferred lt node: ``%s``\" % plt)\n",
    "\n",
    "pla1 = la1()\n",
    "print(\"dereferred la1 node: ``%s``\" % pla1)"
   ]
  },
  {
   "cell_type": "markdown",
   "metadata": {},
   "source": [
    "Now, plt is a Python reference to the t1 table while pla1 refers to the a1 array. Easy, uh?\n",
    "Let’s suppose now that a1 is an array whose access speed is critical for our application. One possible solution is to move the entire file into a faster disk, say, a solid state disk so that access latencies can be reduced quite a lot. However, it happens that our file is too big to fit into our shiny new (although small in capacity) SSD disk. A solution is to copy just the a1 array into a separate file that would fit into our SSD disk. However, our application would be able to handle two files instead of only one, adding significantly more complexity, which is not a good thing.\n",
    "\n",
    "External links to the rescue! As we’ve already said, external links are like soft links, but they are designed to link objects in external files. Back to our problem, let’s copy the a1 array into a different file:"
   ]
  },
  {
   "cell_type": "code",
   "execution_count": 9,
   "metadata": {},
   "outputs": [],
   "source": [
    "f2 = open_file('tmp/links2.h5', 'w')\n",
    "new_a1 = a1.copy(f2.root, 'a1')\n",
    "f2.close()  # close the other file"
   ]
  },
  {
   "cell_type": "code",
   "execution_count": 14,
   "metadata": {},
   "outputs": [
    {
     "name": "stdout",
     "output_type": "stream",
     "text": [
      "/gl/la1 (ExternalLink) -> links2.h5:/a1 is an external link to: links2.h5:/a1\n"
     ]
    }
   ],
   "source": [
    "#And now, we can remove the existing soft link and create the external link in its place:\n",
    "la1.remove()\n",
    "la1 = f1.create_external_link(gl, 'la1', 'links2.h5:/a1')\n",
    "print(\"%s is an external link to: %s\" % (la1, la1.target))"
   ]
  },
  {
   "cell_type": "code",
   "execution_count": 17,
   "metadata": {},
   "outputs": [
    {
     "name": "stdout",
     "output_type": "stream",
     "text": [
      "dereferred la1 node:  /a1 (CArray(10000,)) ''\n"
     ]
    }
   ],
   "source": [
    "#Let’s try dereferring it:\n",
    "new_a1 = la1()  # dereferrencing la1 returns a1 in links2.h5\n",
    "print(\"dereferred la1 node:  %s\" % new_a1)"
   ]
  },
  {
   "cell_type": "code",
   "execution_count": 18,
   "metadata": {},
   "outputs": [
    {
     "name": "stdout",
     "output_type": "stream",
     "text": [
      "new_a1 file: tmp/links2.h5\n"
     ]
    }
   ],
   "source": [
    "# Well, it seems like we can access the external node. But just to make sure \n",
    "# that the node is in the other file:\n",
    "print(\"new_a1 file:\", new_a1._v_file.filename)"
   ]
  },
  {
   "cell_type": "code",
   "execution_count": null,
   "metadata": {},
   "outputs": [],
   "source": []
  }
 ],
 "metadata": {
  "kernelspec": {
   "display_name": "Python 3",
   "language": "python",
   "name": "python3"
  },
  "language_info": {
   "codemirror_mode": {
    "name": "ipython",
    "version": 3
   },
   "file_extension": ".py",
   "mimetype": "text/x-python",
   "name": "python",
   "nbconvert_exporter": "python",
   "pygments_lexer": "ipython3",
   "version": "3.6.8"
  }
 },
 "nbformat": 4,
 "nbformat_minor": 2
}
