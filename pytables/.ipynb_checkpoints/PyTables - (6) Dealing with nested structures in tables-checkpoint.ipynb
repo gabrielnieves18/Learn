{
 "cells": [
  {
   "cell_type": "code",
   "execution_count": 2,
   "metadata": {},
   "outputs": [],
   "source": [
    "import numpy as np\n",
    "\n",
    "from tables import *"
   ]
  },
  {
   "cell_type": "markdown",
   "metadata": {},
   "source": [
    "PyTables supports the handling of nested structures (or nested datatypes, as you prefer) in table objects, allowing you to define arbitrarily nested columns.\n",
    "\n",
    "An example will clarify what this means. Let’s suppose that you want to group your data in pieces of information that are more related than others pieces in your table, So you may want to tie them up together in order to have your table better structured but also be able to retrieve and deal with these groups more easily.\n",
    "\n",
    "You can create such a nested substructures by just nesting subclasses of IsDescription. Let’s see one example (okay, it’s a bit silly, but will serve for demonstration purposes):"
   ]
  },
  {
   "cell_type": "code",
   "execution_count": 3,
   "metadata": {},
   "outputs": [],
   "source": [
    "class Info(IsDescription):\n",
    "    \"\"\"A sub-structure of Test\"\"\"\n",
    "    _v_pos = 2   # The position in the whole structure\n",
    "    name = StringCol(10)\n",
    "    value = Float64Col(pos=0)\n",
    "\n",
    "\n",
    "colors = Enum(['red', 'green', 'blue'])\n",
    "\n",
    "\n",
    "class NestedDescr(IsDescription):\n",
    "    \"\"\"A description that has several nested columns\"\"\"\n",
    "    color = EnumCol(colors, 'red', base='uint32')\n",
    "    info1 = Info()\n",
    "\n",
    "\n",
    "    class info2(IsDescription):\n",
    "        _v_pos = 1\n",
    "        name = StringCol(10)\n",
    "        value = Float64Col(pos=0)\n",
    "\n",
    "\n",
    "        class info3(IsDescription):\n",
    "            x = Float64Col(dflt=1)\n",
    "            y = UInt8Col(dflt=1)"
   ]
  },
  {
   "cell_type": "markdown",
   "metadata": {},
   "source": [
    "The root class is NestedDescr and both info1 and info2 are substructures of it. Note how info1 is actually an instance of the class Info that was defined prior to NestedDescr. Also, there is a third substructure, namely info3 that hangs from the substructure info2. You can also define positions of substructures in the containing object by declaring the special class attribute _v_pos."
   ]
  },
  {
   "cell_type": "markdown",
   "metadata": {},
   "source": [
    "# Nested table creation"
   ]
  },
  {
   "cell_type": "code",
   "execution_count": 7,
   "metadata": {},
   "outputs": [],
   "source": [
    "# Now that we have defined our nested structure, let’s create a nested table, \n",
    "# that is a table with columns that contain other subcolumns:\n",
    "fileh = open_file(\"tmp/nested-tut.h5\", \"w\")\n",
    "table = fileh.create_table(fileh.root, 'table', NestedDescr)"
   ]
  },
  {
   "cell_type": "code",
   "execution_count": 9,
   "metadata": {},
   "outputs": [
    {
     "data": {
      "text/plain": [
       "/table (Table(0,)) ''\n",
       "  description := {\n",
       "  \"info2\": {\n",
       "    \"value\": Float64Col(shape=(), dflt=0.0, pos=0),\n",
       "    \"info3\": {\n",
       "      \"x\": Float64Col(shape=(), dflt=1.0, pos=0),\n",
       "      \"y\": UInt8Col(shape=(), dflt=1, pos=1)},\n",
       "    \"name\": StringCol(itemsize=10, shape=(), dflt=b'', pos=2)},\n",
       "  \"info1\": {\n",
       "    \"value\": Float64Col(shape=(), dflt=0.0, pos=0),\n",
       "    \"name\": StringCol(itemsize=10, shape=(), dflt=b'', pos=1)},\n",
       "  \"color\": EnumCol(enum=Enum({'red': 0, 'green': 1, 'blue': 2}), dflt='red', base=UInt32Atom(shape=(), dflt=0), shape=(), pos=2)}\n",
       "  byteorder := 'little'\n",
       "  chunkshape := (1337,)"
      ]
     },
     "execution_count": 9,
     "metadata": {},
     "output_type": "execute_result"
    }
   ],
   "source": [
    "table"
   ]
  },
  {
   "cell_type": "code",
   "execution_count": 13,
   "metadata": {},
   "outputs": [
    {
     "data": {
      "text/plain": [
       "30"
      ]
     },
     "execution_count": 13,
     "metadata": {},
     "output_type": "execute_result"
    }
   ],
   "source": [
    "row = table.row\n",
    "for i in range(10):\n",
    "    row['color'] = colors[['red', 'green', 'blue'][i%3]]\n",
    "    row['info1/name'] = \"name1-%s\" % i\n",
    "    row['info2/name'] = \"name2-%s\" % i\n",
    "    row['info2/info3/y'] =  i\n",
    "    # All the rest will be filled with defaults\n",
    "    row.append()\n",
    "\n",
    "table.flush()\n",
    "table.nrows"
   ]
  },
  {
   "cell_type": "code",
   "execution_count": 21,
   "metadata": {},
   "outputs": [
    {
     "data": {
      "text/plain": [
       "array([b'name1-0', b'name1-1', b'name1-2'], dtype='|S10')"
      ]
     },
     "execution_count": 21,
     "metadata": {},
     "output_type": "execute_result"
    }
   ],
   "source": [
    "table.read(0, 3)['info1']['name']"
   ]
  },
  {
   "cell_type": "code",
   "execution_count": 22,
   "metadata": {},
   "outputs": [
    {
     "data": {
      "text/plain": [
       "{\n",
       "  \"info2\": {\n",
       "    \"value\": Float64Col(shape=(), dflt=0.0, pos=0),\n",
       "    \"info3\": {\n",
       "      \"x\": Float64Col(shape=(), dflt=1.0, pos=0),\n",
       "      \"y\": UInt8Col(shape=(), dflt=1, pos=1)},\n",
       "    \"name\": StringCol(itemsize=10, shape=(), dflt=b'', pos=2)},\n",
       "  \"info1\": {\n",
       "    \"value\": Float64Col(shape=(), dflt=0.0, pos=0),\n",
       "    \"name\": StringCol(itemsize=10, shape=(), dflt=b'', pos=1)},\n",
       "  \"color\": EnumCol(enum=Enum({'red': 0, 'green': 1, 'blue': 2}), dflt='red', base=UInt32Atom(shape=(), dflt=0), shape=(), pos=2)}"
      ]
     },
     "execution_count": 22,
     "metadata": {},
     "output_type": "execute_result"
    }
   ],
   "source": [
    "table.description"
   ]
  },
  {
   "cell_type": "code",
   "execution_count": null,
   "metadata": {},
   "outputs": [],
   "source": []
  }
 ],
 "metadata": {
  "kernelspec": {
   "display_name": "Python 3",
   "language": "python",
   "name": "python3"
  },
  "language_info": {
   "codemirror_mode": {
    "name": "ipython",
    "version": 3
   },
   "file_extension": ".py",
   "mimetype": "text/x-python",
   "name": "python",
   "nbconvert_exporter": "python",
   "pygments_lexer": "ipython3",
   "version": "3.6.8"
  }
 },
 "nbformat": 4,
 "nbformat_minor": 2
}
